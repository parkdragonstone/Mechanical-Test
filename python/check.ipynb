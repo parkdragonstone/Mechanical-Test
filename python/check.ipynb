{
 "cells": [
  {
   "cell_type": "code",
   "execution_count": 7,
   "metadata": {},
   "outputs": [],
   "source": [
    "import os\n",
    "from glob import glob\n",
    "import pandas as pd\n",
    "\n",
    "import processing\n",
    "\n",
    "parent_dir, chi_dir = os.path.split(os.getcwd())\n",
    "data_dir = [i.replace('\\\\','/') for i in glob(os.path.join(parent_dir, '1. IMPACT TEST', '**','**','*Series.xls')) + glob(os.path.join(parent_dir, '1. IMPACT TEST', '**', '**', '*Table.xls'))]\n",
    "label = pd.read_excel(os.path.join(parent_dir, '1. IMPACT TEST', 'Mechanical Test DB - Impact.xlsx'))\n",
    "label['chart_name'] = label['brand'] + \" | \" + label['model_name'] + \" | \" + label['test_date'].dt.strftime('%Y-%m-%d')\n",
    "label = label[label['test'] == 'IMPACT']\n",
    "image_dir = [i.replace('\\\\','/') for i in glob(os.path.join(parent_dir,  '1. IMPACT TEST','**','**','image','*.jpg'))+ glob(os.path.join(parent_dir,  '1. IMPACT TEST','**','**','image','*.JPG')) + glob(os.path.join(parent_dir,  '1. IMPACT TEST','**','**','image','*.PNG')) + glob(os.path.join(parent_dir,  '1. IMPACT TEST','**', '**', 'image', '*.png'))]\n",
    "DATA = processing.data_load(data_dir)\n",
    "\n",
    "# 파일 경로에서 폴더명 추출\n",
    "folder_names = [os.path.basename(os.path.dirname(path)) for path in data_dir]\n",
    "unique_folder_names = list(set(folder_names))\n",
    "\n",
    "folder_to_chart, chart_to_files = processing.chart_folder_to_files(label, unique_folder_names, data_dir)\n",
    "folder_to_chart_image, chart_to_images = processing.chart_folder_to_files(label, unique_folder_names, image_dir)\n",
    "\n",
    "all_chart_names = list(chart_to_files.keys())\n",
    "all_files  = {name : chart_to_files[name][0] for name in all_chart_names}\n",
    "all_labels = {name : chart_to_files[name][1] for name in all_chart_names}\n",
    "\n",
    "all_filtered_files = processing.process_files(all_files)\n",
    "all_filtered_data = processing.filtering_data(all_filtered_files, all_labels, DATA)\n",
    "all_filtered_data = processing.add_slope_data(all_filtered_data, all_labels)\n",
    "\n",
    "FF, RF, FF_SD, RF_SD = processing.overall_data_table(all_chart_names, all_filtered_data, all_labels)\n",
    "FF[('Test Date')] = FF[('Test Date')].dt.strftime('%Y-%m-%d')\n",
    "RF[('Test Date')] = RF[('Test Date')].dt.strftime('%Y-%m-%d')"
   ]
  },
  {
   "cell_type": "code",
   "execution_count": 11,
   "metadata": {},
   "outputs": [],
   "source": [
    "all_filtered_data['ADIDAS | UBERSONIC 2 | 2020-05-20']\n",
    "\n",
    "selected_model = 'ADIDAS | UBERSONIC 2 | 2020-05-20'"
   ]
  },
  {
   "cell_type": "code",
   "execution_count": 12,
   "metadata": {},
   "outputs": [],
   "source": [
    "info_table = FF.loc[(selected_model.split('|')[0][:-1], selected_model.split('|')[1][1:-1])]"
   ]
  },
  {
   "cell_type": "code",
   "execution_count": 16,
   "metadata": {},
   "outputs": [
    {
     "data": {
      "text/plain": [
       "8.5"
      ]
     },
     "execution_count": 16,
     "metadata": {},
     "output_type": "execute_result"
    }
   ],
   "source": [
    "info_table['Missile Mass (kg)']"
   ]
  }
 ],
 "metadata": {
  "kernelspec": {
   "display_name": "dashboard",
   "language": "python",
   "name": "python3"
  },
  "language_info": {
   "codemirror_mode": {
    "name": "ipython",
    "version": 3
   },
   "file_extension": ".py",
   "mimetype": "text/x-python",
   "name": "python",
   "nbconvert_exporter": "python",
   "pygments_lexer": "ipython3",
   "version": "3.11.4"
  }
 },
 "nbformat": 4,
 "nbformat_minor": 2
}
